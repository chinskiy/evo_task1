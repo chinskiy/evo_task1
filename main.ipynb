{
 "cells": [
  {
   "cell_type": "markdown",
   "metadata": {},
   "source": [
    "# Pure python"
   ]
  },
  {
   "cell_type": "code",
   "execution_count": 1,
   "metadata": {
    "collapsed": true
   },
   "outputs": [],
   "source": [
    "import random\n",
    "\n",
    "shape = 10\n",
    "matrix = [[[random.randint(0,9) for ___ in range(shape)] for __ in range(shape)] for _ in range(shape)]"
   ]
  },
  {
   "cell_type": "code",
   "execution_count": 2,
   "metadata": {
    "collapsed": false
   },
   "outputs": [],
   "source": [
    "#sum by shapes\n",
    "\n",
    "# row\n",
    "d1 = [[sum([matrix[__][_][___] for ___ in range(shape)]), _, __] for __ in range(shape) for _ in range(shape)]\n",
    "# col\n",
    "d2 = [[sum([matrix[__][___][_] for ___ in range(shape)]), _, __] for __ in range(shape) for _ in range(shape)]\n",
    "# page\n",
    "d3 = [[sum([matrix[___][__][_] for ___ in range(shape)]), _, __] for __ in range(shape) for _ in range(shape)]"
   ]
  },
  {
   "cell_type": "code",
   "execution_count": 3,
   "metadata": {
    "collapsed": false
   },
   "outputs": [
    {
     "name": "stdout",
     "output_type": "stream",
     "text": [
      "[9, 7, 9, 6, 6, 7, 9, 7, 7, 9]\n",
      "[9, 7, 4, 7, 7, 5, 6, 7, 9, 7]\n",
      "[6, 7, 2, 7, 8, 9, 9, 5, 6, 5]\n"
     ]
    }
   ],
   "source": [
    "#max sum row\n",
    "print [matrix[max(d1)[2]][max(d1)[1]][_] for _ in range(shape)]\n",
    "#max sum col\n",
    "print [matrix[max(d2)[2]][_][max(d2)[1]] for _ in range(shape)]\n",
    "#max sum page\n",
    "print [matrix[_][max(d3)[2]][max(d3)[1]] for _ in range(shape)]"
   ]
  }
 ],
 "metadata": {
  "kernelspec": {
   "display_name": "Python 2",
   "language": "python",
   "name": "python2"
  },
  "language_info": {
   "codemirror_mode": {
    "name": "ipython",
    "version": 2
   },
   "file_extension": ".py",
   "mimetype": "text/x-python",
   "name": "python",
   "nbconvert_exporter": "python",
   "pygments_lexer": "ipython2",
   "version": "2.7.6"
  }
 },
 "nbformat": 4,
 "nbformat_minor": 0
}
