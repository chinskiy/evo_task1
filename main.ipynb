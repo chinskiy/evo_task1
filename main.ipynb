{
 "cells": [
  {
   "cell_type": "markdown",
   "metadata": {},
   "source": [
    "# Pure python solution"
   ]
  },
  {
   "cell_type": "code",
   "execution_count": null,
   "metadata": {
    "collapsed": true
   },
   "outputs": [],
   "source": [
    "import random\n",
    "\n",
    "shape = 10\n",
    "\n",
    "matrix = [[[random.randint(0,9) for ___ in range(shape)] for __ in range(shape)] for _ in range(shape)]"
   ]
  },
  {
   "cell_type": "code",
   "execution_count": null,
   "metadata": {
    "collapsed": false
   },
   "outputs": [],
   "source": [
    "#sum by shapes\n",
    "\n",
    "# row\n",
    "d1 = [[sum([matrix[__][_][___] for ___ in range(shape)]), _, __] for __ in range(shape) for _ in range(shape)]\n",
    "# col\n",
    "d2 = [[sum([matrix[__][___][_] for ___ in range(shape)]), _, __] for __ in range(shape) for _ in range(shape)]\n",
    "# page\n",
    "d3 = [[sum([matrix[___][__][_] for ___ in range(shape)]), _, __] for __ in range(shape) for _ in range(shape)]"
   ]
  },
  {
   "cell_type": "code",
   "execution_count": null,
   "metadata": {
    "collapsed": false
   },
   "outputs": [],
   "source": [
    "#max sum row\n",
    "print [matrix[max(d1)[2]][max(d1)[1]][_] for _ in range(shape)]\n",
    "#max sum col\n",
    "print [matrix[max(d2)[2]][_][max(d2)[1]] for _ in range(shape)]\n",
    "#max sum page\n",
    "print [matrix[_][max(d3)[2]][max(d3)[1]] for _ in range(shape)]"
   ]
  },
  {
   "cell_type": "markdown",
   "metadata": {},
   "source": [
    "# NumPy solution"
   ]
  },
  {
   "cell_type": "code",
   "execution_count": null,
   "metadata": {
    "collapsed": false
   },
   "outputs": [],
   "source": [
    "from numpy import unravel_index\n",
    "import numpy as np\n",
    "\n",
    "shape = 10\n",
    "\n",
    "matrix = np.random.randint(0,10, size=(shape, shape, shape))"
   ]
  },
  {
   "cell_type": "code",
   "execution_count": null,
   "metadata": {
    "collapsed": false
   },
   "outputs": [],
   "source": [
    "d1 = matrix.sum(2)\n",
    "d2 = matrix.sum(1)\n",
    "d3 = matrix.sum(0)"
   ]
  },
  {
   "cell_type": "code",
   "execution_count": null,
   "metadata": {
    "collapsed": true
   },
   "outputs": [],
   "source": [
    "# index of max \n",
    "ind1 = unravel_index(d1.argmax(), d1.shape)\n",
    "ind2 = unravel_index(d2.argmax(), d2.shape)\n",
    "ind3 = unravel_index(d3.argmax(), d3.shape)"
   ]
  },
  {
   "cell_type": "code",
   "execution_count": null,
   "metadata": {
    "collapsed": false
   },
   "outputs": [],
   "source": [
    "print matrix[ind1[0], ind1[1], :]\n",
    "print matrix[ind2[0], :, ind2[1]]\n",
    "print matrix[:, ind3[0], ind3[1]]"
   ]
  }
 ],
 "metadata": {
  "kernelspec": {
   "display_name": "Python 2",
   "language": "python",
   "name": "python2"
  },
  "language_info": {
   "codemirror_mode": {
    "name": "ipython",
    "version": 2
   },
   "file_extension": ".py",
   "mimetype": "text/x-python",
   "name": "python",
   "nbconvert_exporter": "python",
   "pygments_lexer": "ipython2",
   "version": "2.7.6"
  }
 },
 "nbformat": 4,
 "nbformat_minor": 0
}
